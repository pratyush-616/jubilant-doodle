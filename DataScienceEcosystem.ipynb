{
 "cells": [
  {
   "cell_type": "markdown",
   "id": "90716932-704b-438b-9ac9-5e4382a4843b",
   "metadata": {
    "tags": []
   },
   "source": [
    "# Data Science Tools and Ecosystem"
   ]
  },
  {
   "cell_type": "markdown",
   "id": "fb5c06de-f77a-45eb-a334-f919c1957b99",
   "metadata": {},
   "source": [
    "In this notebook, Data Science Tools and Ecosystem are summarized. "
   ]
  },
  {
   "cell_type": "markdown",
   "id": "b052f683-ae57-4bc0-9bf4-68e4928f5442",
   "metadata": {},
   "source": [
    "**Objectives:**\n",
    "- Popular languages that Data Scientists use\n",
    "- Commonly used libraries used by Data Scientists\n",
    "- Data science tools \n"
   ]
  },
  {
   "cell_type": "markdown",
   "id": "643bd864-eaa8-410b-b1b6-734be40491ae",
   "metadata": {},
   "source": [
    "Some of the popular languages that Data Scientists use are:\n",
    "1. Python\n",
    "2. R\n",
    "3. SQL"
   ]
  },
  {
   "cell_type": "markdown",
   "id": "c766465b-80c4-4d03-9b1a-c76f78ca87de",
   "metadata": {},
   "source": [
    "Some of the commonly used libraries used by Data Scientists include:\n",
    "1. NumPy\n",
    "2. Pandas\n",
    "3. TensorFlow\n",
    "4. Matplotlib"
   ]
  },
  {
   "cell_type": "markdown",
   "id": "08286254-69f6-45d9-9a50-3e57967cebce",
   "metadata": {},
   "source": [
    "| Data Science Tools |\n",
    "| --------------- |\n",
    "| Rstudio |\n",
    "| Github |\n",
    "| JupyterLite |\n"
   ]
  },
  {
   "cell_type": "markdown",
   "id": "d4c48d49-4668-4719-8246-9bafed1ee41f",
   "metadata": {},
   "source": [
    "### Below are a few examples of evaluating arithmetic expressions in Python\n",
    "% / + *\n"
   ]
  },
  {
   "cell_type": "code",
   "execution_count": 8,
   "id": "b501f657-2bc9-4509-829f-356721f142ae",
   "metadata": {
    "tags": []
   },
   "outputs": [
    {
     "data": {
      "text/plain": [
       "17"
      ]
     },
     "execution_count": 8,
     "metadata": {},
     "output_type": "execute_result"
    }
   ],
   "source": [
    "#This a simple arithmetic expression to mutiply then add integers\n",
    "(3*4)+5 "
   ]
  },
  {
   "cell_type": "code",
   "execution_count": 9,
   "id": "89410e16-62eb-473c-8634-58595c111663",
   "metadata": {
    "tags": []
   },
   "outputs": [
    {
     "data": {
      "text/plain": [
       "3.3333333333333335"
      ]
     },
     "execution_count": 9,
     "metadata": {},
     "output_type": "execute_result"
    }
   ],
   "source": [
    "#This will convert 200 minutes to hours by diving by 60\n",
    "200/60 "
   ]
  },
  {
   "cell_type": "markdown",
   "id": "3ed734ef-2246-4e7d-a2a3-3fcb9ecfb350",
   "metadata": {},
   "source": [
    "## Author\n",
    "Pratyush Senapati"
   ]
  },
  {
   "cell_type": "code",
   "execution_count": null,
   "id": "81e33e9c-3be8-4154-b675-62f7585d44e0",
   "metadata": {},
   "outputs": [],
   "source": []
  }
 ],
 "metadata": {
  "kernelspec": {
   "display_name": "Python",
   "language": "python",
   "name": "conda-env-python-py"
  },
  "language_info": {
   "codemirror_mode": {
    "name": "ipython",
    "version": 3
   },
   "file_extension": ".py",
   "mimetype": "text/x-python",
   "name": "python",
   "nbconvert_exporter": "python",
   "pygments_lexer": "ipython3",
   "version": "3.7.12"
  }
 },
 "nbformat": 4,
 "nbformat_minor": 5
}
